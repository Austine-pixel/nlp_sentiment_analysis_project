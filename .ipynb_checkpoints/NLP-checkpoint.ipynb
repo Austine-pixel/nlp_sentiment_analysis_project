{
 "cells": [
  {
   "cell_type": "markdown",
   "id": "a5a06e81-5907-4920-b963-7279c0a12579",
   "metadata": {},
   "source": [
    "## TWEETS SENTIMENT ANALYSIS USING NLP & ML"
   ]
  },
  {
   "cell_type": "markdown",
   "id": "43f97c27-f57e-4bdb-b98c-d811d7426163",
   "metadata": {},
   "source": [
    "PHASE FOUR PROJECT - GROUP 8"
   ]
  },
  {
   "cell_type": "markdown",
   "id": "8cdc1444-fa2e-47d0-9981-7ba09a4b8da7",
   "metadata": {},
   "source": [
    "Authors\n",
    "* Pamela Godia\n",
    "\n",
    "* Austine Otieno\n",
    "\n",
    "* Allan Ofula\n"
   ]
  },
  {
   "cell_type": "markdown",
   "id": "6e368595-91ff-4778-88fd-1f1bc58ad904",
   "metadata": {},
   "source": [
    "## 1. INTRODUCTON"
   ]
  },
  {
   "cell_type": "markdown",
   "id": "b001c82a-eae0-48d9-8ada-44197dc08865",
   "metadata": {},
   "source": [
    "This project aims to automate sentiment classification of tweets using natural language processing (NLP) and machine learning. Using the large-scale Sentiment140 dataset, we build a model to classify tweets as positive or negative, enabling businesses to monitor customer feedback and public sentiment in real time. The approach includes data cleaning, TF-IDF vectorization, and Logistic Regression modeling. It provides a scalable, interpretable foundation for deeper NLP applications, with the potential to integrate advanced models in future stages."
   ]
  },
  {
   "cell_type": "markdown",
   "id": "01f7547e-d928-4612-84f8-2d0a1f2c6bd4",
   "metadata": {},
   "source": [
    "## 1.1 PROJECT OVERVIEW "
   ]
  },
  {
   "cell_type": "markdown",
   "id": "c9aaf74a-0124-4f52-b0fb-46f594210fac",
   "metadata": {},
   "source": [
    "## 1.1.1 BUSINESS UNDERSTANDING "
   ]
  },
  {
   "cell_type": "markdown",
   "id": "23d2fba1-d7ca-4558-8ee5-0ad24bbb42c6",
   "metadata": {},
   "source": [
    "This project focuses on sentiment classification of tweets to help businesses monitor public opinion. The primary use case is for customer service and brand reputation management, where companies can proactively respond to negative sentiments or amplify positive feedback.\n",
    "## Objective - Develop an automated system to classify tweets as positive or negative, so the organization can:\n",
    "\n",
    "* Proactively address negative feedback\n",
    "\n",
    "* Monitor public perception of campaigns\n",
    "\n",
    "* Amplify positive engagement\n",
    "\n",
    "* Reduce churn by acting on sentiment early"
   ]
  },
  {
   "cell_type": "markdown",
   "id": "dfe4ee64-6206-4163-8da2-4d7e5ad16137",
   "metadata": {},
   "source": [
    "## 1.1.2 BUSINESS PROBLEM "
   ]
  },
  {
   "cell_type": "markdown",
   "id": "94325970-d9fc-48d8-914b-a14ef2cc43d9",
   "metadata": {},
   "source": [
    "Companies need to understand how customers feel about their products and services in real-time. Manually reviewing tweets is not scalable, and using rule-based systems often fails due to the complexity and informality of human language on social media (e.g., slang, sarcasm, emojis)."
   ]
  },
  {
   "cell_type": "markdown",
   "id": "7a23bed8-8109-47a7-bc7b-0dc5c49c3609",
   "metadata": {},
   "source": [
    "## 1.1.3 KEY BUSINESS QUESTIONS "
   ]
  },
  {
   "cell_type": "markdown",
   "id": "7db69d70-523b-4b34-937c-4495d3a5379d",
   "metadata": {},
   "source": [
    "* Can we accurately predict the sentiment of a tweet using its text content alone?\n",
    "\n",
    "* What are the most frequent words associated with each sentiment?\n",
    "\n",
    "* How well can a classical model (like Logistic Regression) perform compared to more complex alternatives?\n",
    "\n",
    "* What preprocessing steps are most effective for handling noisy, short-form social media text?\n",
    "\n",
    "* Is the model accurate and interpretable enough to deploy for real-time use?"
   ]
  },
  {
   "cell_type": "markdown",
   "id": "836a3628-b4e4-42f5-ac0d-f9803849b946",
   "metadata": {},
   "source": [
    "## 2. DATA UNDERSTANDING "
   ]
  },
  {
   "cell_type": "markdown",
   "id": "af7e47cc-ae40-4b14-b3a6-3f1fc2cc6187",
   "metadata": {},
   "source": [
    "* Dataset: 1.6 million pre-labeled tweets from a sentiment analysis corpus.\n",
    "\n",
    "* Columns: target (label), ids, date, flag, user, text\n",
    "\n",
    "  Label Distribution: Balanced (50% positive, 50% negative)\n",
    "\n",
    "* Unique Users: ~660K\n",
    "\n",
    "* Tweet Length: Varies; preprocessed and analyzed."
   ]
  },
  {
   "cell_type": "markdown",
   "id": "3ca76894-975e-412e-af33-166b2c1f67b5",
   "metadata": {},
   "source": [
    "#### Dataset Structure Recap\n",
    "\n",
    "| **Column** | **Meaning**                                        |\n",
    "|------------|----------------------------------------------------|\n",
    "| `target`   | Sentiment (0 = negative, 2 = neutral, 4 = positive) |\n",
    "| `ids`      | Tweet ID                                           |\n",
    "| `date`     | Date of tweet                                      |\n",
    "| `flag`     | Search query                                       |\n",
    "| `user`     | Username                                           |\n",
    "| `text`     | Actual tweet content                               |\n"
   ]
  },
  {
   "cell_type": "markdown",
   "id": "824932b9-9038-4cc2-9587-3c1a01914c0a",
   "metadata": {},
   "source": [
    "## 2.1 DATA PREPROCESSING "
   ]
  },
  {
   "cell_type": "markdown",
   "id": "64fd2481-f60c-4d7c-a2da-7ed3102872cf",
   "metadata": {},
   "source": [
    "### 2.1.1 The data "
   ]
  },
  {
   "cell_type": "markdown",
   "id": "a0b658f9-22ed-42df-89c6-87ffb571139b",
   "metadata": {},
   "source": [
    "### The dataset used is the Sentiment140 dataset, a well-known corpus created by researchers at Stanford University. It contains 1.6 million tweets automatically labeled as either positive or negative based on the presence of emoticons.\n",
    "\n",
    "* Source: Sentiment140 Dataset\n",
    "\n",
    "* Created by: Alec Go, Richa Bhayani, and Lei Huang"
   ]
  },
  {
   "cell_type": "markdown",
   "id": "1b3c20e2-b859-4966-9a5a-5280da7d2bee",
   "metadata": {},
   "source": [
    "## 2.1.2 DATA PREPARATION "
   ]
  },
  {
   "cell_type": "raw",
   "id": "6e4c114e-e618-414e-8d96-2e4b0a2bc6ff",
   "metadata": {},
   "source": [
    "This entails:  1. Importing libraries\n",
    "               2. Loading the data set \n",
    "               3. Data cleaning "
   ]
  },
  {
   "cell_type": "markdown",
   "id": "7d0f1ba4-445a-48b4-b40a-f796eeed2c66",
   "metadata": {},
   "source": [
    "### 2.1.2.1 Import libraries"
   ]
  },
  {
   "cell_type": "code",
   "execution_count": 21,
   "id": "3a9677a8-774f-4210-8525-47e98fe1e66e",
   "metadata": {},
   "outputs": [
    {
     "name": "stderr",
     "output_type": "stream",
     "text": [
      "[nltk_data] Downloading package stopwords to\n",
      "[nltk_data]     C:\\Users\\user/nltk_data...\n",
      "[nltk_data]   Package stopwords is already up-to-date!\n",
      "[nltk_data] Downloading package punkt to C:\\Users\\user/nltk_data...\n",
      "[nltk_data]   Package punkt is already up-to-date!\n",
      "[nltk_data] Downloading package punkt to C:\\Users\\user/nltk_data...\n",
      "[nltk_data]   Package punkt is already up-to-date!\n"
     ]
    },
    {
     "data": {
      "text/plain": [
       "True"
      ]
     },
     "execution_count": 21,
     "metadata": {},
     "output_type": "execute_result"
    }
   ],
   "source": [
    "# Libraries for Data manipulation\n",
    "import pandas as pd\n",
    "import numpy as np\n",
    "\n",
    "# Libaries for Visualization\n",
    "import matplotlib.pyplot as plt\n",
    "import seaborn as sns\n",
    "%matplotlib inline\n",
    "\n",
    "# NLP tools Libraries\n",
    "import re\n",
    "import string\n",
    "import nltk\n",
    "from nltk.corpus import stopwords\n",
    "from wordcloud import WordCloud\n",
    "from collections import Counter\n",
    "from nltk.tokenize import word_tokenize \n",
    "\n",
    "# Downloading NLTK resources \n",
    "nltk.download('stopwords')\n",
    "nltk.download('punkt')\n",
    "nltk.download('punkt')"
   ]
  },
  {
   "cell_type": "markdown",
   "id": "1182d85f-c924-49c0-be9a-67d4c34122e9",
   "metadata": {},
   "source": [
    "### 2.1.2.2 Load Dataset "
   ]
  },
  {
   "cell_type": "code",
   "execution_count": 23,
   "id": "ea001997-2f72-4e39-9acf-3f4d0ff5a402",
   "metadata": {},
   "outputs": [
    {
     "data": {
      "text/html": [
       "<div>\n",
       "<style scoped>\n",
       "    .dataframe tbody tr th:only-of-type {\n",
       "        vertical-align: middle;\n",
       "    }\n",
       "\n",
       "    .dataframe tbody tr th {\n",
       "        vertical-align: top;\n",
       "    }\n",
       "\n",
       "    .dataframe thead th {\n",
       "        text-align: right;\n",
       "    }\n",
       "</style>\n",
       "<table border=\"1\" class=\"dataframe\">\n",
       "  <thead>\n",
       "    <tr style=\"text-align: right;\">\n",
       "      <th></th>\n",
       "      <th>target</th>\n",
       "      <th>ids</th>\n",
       "      <th>date</th>\n",
       "      <th>flag</th>\n",
       "      <th>user</th>\n",
       "      <th>text</th>\n",
       "    </tr>\n",
       "  </thead>\n",
       "  <tbody>\n",
       "    <tr>\n",
       "      <th>0</th>\n",
       "      <td>0</td>\n",
       "      <td>1467810369</td>\n",
       "      <td>Mon Apr 06 22:19:45 PDT 2009</td>\n",
       "      <td>NO_QUERY</td>\n",
       "      <td>_TheSpecialOne_</td>\n",
       "      <td>@switchfoot http://twitpic.com/2y1zl - Awww, t...</td>\n",
       "    </tr>\n",
       "    <tr>\n",
       "      <th>1</th>\n",
       "      <td>0</td>\n",
       "      <td>1467810672</td>\n",
       "      <td>Mon Apr 06 22:19:49 PDT 2009</td>\n",
       "      <td>NO_QUERY</td>\n",
       "      <td>scotthamilton</td>\n",
       "      <td>is upset that he can't update his Facebook by ...</td>\n",
       "    </tr>\n",
       "    <tr>\n",
       "      <th>2</th>\n",
       "      <td>0</td>\n",
       "      <td>1467810917</td>\n",
       "      <td>Mon Apr 06 22:19:53 PDT 2009</td>\n",
       "      <td>NO_QUERY</td>\n",
       "      <td>mattycus</td>\n",
       "      <td>@Kenichan I dived many times for the ball. Man...</td>\n",
       "    </tr>\n",
       "    <tr>\n",
       "      <th>3</th>\n",
       "      <td>0</td>\n",
       "      <td>1467811184</td>\n",
       "      <td>Mon Apr 06 22:19:57 PDT 2009</td>\n",
       "      <td>NO_QUERY</td>\n",
       "      <td>ElleCTF</td>\n",
       "      <td>my whole body feels itchy and like its on fire</td>\n",
       "    </tr>\n",
       "    <tr>\n",
       "      <th>4</th>\n",
       "      <td>0</td>\n",
       "      <td>1467811193</td>\n",
       "      <td>Mon Apr 06 22:19:57 PDT 2009</td>\n",
       "      <td>NO_QUERY</td>\n",
       "      <td>Karoli</td>\n",
       "      <td>@nationwideclass no, it's not behaving at all....</td>\n",
       "    </tr>\n",
       "  </tbody>\n",
       "</table>\n",
       "</div>"
      ],
      "text/plain": [
       "   target         ids                          date      flag  \\\n",
       "0       0  1467810369  Mon Apr 06 22:19:45 PDT 2009  NO_QUERY   \n",
       "1       0  1467810672  Mon Apr 06 22:19:49 PDT 2009  NO_QUERY   \n",
       "2       0  1467810917  Mon Apr 06 22:19:53 PDT 2009  NO_QUERY   \n",
       "3       0  1467811184  Mon Apr 06 22:19:57 PDT 2009  NO_QUERY   \n",
       "4       0  1467811193  Mon Apr 06 22:19:57 PDT 2009  NO_QUERY   \n",
       "\n",
       "              user                                               text  \n",
       "0  _TheSpecialOne_  @switchfoot http://twitpic.com/2y1zl - Awww, t...  \n",
       "1    scotthamilton  is upset that he can't update his Facebook by ...  \n",
       "2         mattycus  @Kenichan I dived many times for the ball. Man...  \n",
       "3          ElleCTF    my whole body feels itchy and like its on fire   \n",
       "4           Karoli  @nationwideclass no, it's not behaving at all....  "
      ]
     },
     "execution_count": 23,
     "metadata": {},
     "output_type": "execute_result"
    }
   ],
   "source": [
    "# Loading the Sentiment140 dataset\n",
    "cols = ['target', 'ids', 'date', 'flag', 'user', 'text']\n",
    "df = pd.read_csv('training.1600000.processed.noemoticon.csv', encoding='ISO-8859-1', names=cols)\n",
    "\n",
    "# Preview first few rows\n",
    "df.head()"
   ]
  },
  {
   "cell_type": "markdown",
   "id": "0bad0315-b9d5-47b3-81e0-7e1e64270442",
   "metadata": {},
   "source": [
    "## 2.1.2.3 Data Cleaning and Feature Engineering"
   ]
  },
  {
   "cell_type": "markdown",
   "id": "300304dd-7c52-44de-ab24-3f4d57e9d995",
   "metadata": {},
   "source": [
    "Prior to any exploratory analysis, we'll complete two common data cleaning tasks for text data: standardizing case and tokenizing.\n"
   ]
  },
  {
   "cell_type": "markdown",
   "id": "5e91c0e8-b050-4e7f-820a-b6c631ddf761",
   "metadata": {},
   "source": [
    "### Standardizing Case\n",
    "In an NLP modeling process, sometimes we will want to preserve the original case of words (i.e. to treat \"It\" and \"it\" as different words, and sometimes we will want to standardize case (i.e. to treat \"It\" and \"it\" as the same word)."
   ]
  },
  {
   "cell_type": "markdown",
   "id": "a9cc5b2b-d794-47a5-812b-88663c7d40ba",
   "metadata": {},
   "source": [
    "### a) Keep Only Necessary Columns and Rename Sentiment\n",
    "This is to:\n",
    "- Reduce clutter by removing irrelevant columns (ids, date, flag, user) that are not useful for our modeling.\n",
    "- Keeps only what matters for analysis: the tweet text and its sentiment label.\n",
    "- Renames the target column to sentiment for readability and clarity in your code."
   ]
  },
  {
   "cell_type": "code",
   "execution_count": 28,
   "id": "460aee8a-e16c-4f87-82dc-8236340e42eb",
   "metadata": {},
   "outputs": [
    {
     "data": {
      "text/plain": [
       "sentiment\n",
       "negative    800000\n",
       "positive    800000\n",
       "Name: count, dtype: int64"
      ]
     },
     "execution_count": 28,
     "metadata": {},
     "output_type": "execute_result"
    }
   ],
   "source": [
    "# Keeping only sentiment label and tweet text\n",
    "df = df[['target', 'text']]\n",
    "\n",
    "# Renaming target: 0 -> negative, 4 -> positive\n",
    "df = df[df['target'].isin([0, 4])]\n",
    "df['sentiment'] = df['target'].map({0: 'negative', 4: 'positive'})\n",
    "\n",
    "# Dropping the original target column\n",
    "df.drop('target', axis=1, inplace=True)\n",
    "\n",
    "# Checking class distribution\n",
    "df['sentiment'].value_counts()"
   ]
  },
  {
   "cell_type": "markdown",
   "id": "a7a7b07f-6b84-4646-9d38-e73e2029a60a",
   "metadata": {},
   "source": [
    "### b) Cleaning the Tweets\n",
    "This step prepares our raw text for analysis and modeling by removing noise and standardizing format. Tweets often contain unnecessary or messy elements like:\n",
    "- URLs (http...)\n",
    "- Mentions (@username)\n",
    "- Hashtags (#topic)\n",
    "- Special characters, punctuation, emojis\n",
    "- Repeated spaces, capital letters, numbers"
   ]
  },
  {
   "cell_type": "code",
   "execution_count": 30,
   "id": "430db5f9-8210-4e21-b3f3-13f270187c51",
   "metadata": {},
   "outputs": [],
   "source": [
    "# Defining function to clean tweets\n",
    "def clean_text(text):\n",
    "    text = text.lower()  # Lowercase\n",
    "    text = re.sub(r\"http\\S+|www\\S+|https\\S+\", '', text)  # Remove URLs\n",
    "    text = re.sub(r\"@\\w+\", '', text)  # Remove mentions\n",
    "    text = re.sub(r\"#\\w+\", '', text)  # Remove hashtags\n",
    "    text = re.sub(r\"[^\\w\\s]\", '', text)  # Remove punctuation\n",
    "    text = re.sub(r\"\\d+\", '', text)  # Remove numbers\n",
    "    text = re.sub(r\"\\s{2,}\", ' ', text)  # Remove multiple spaces\n",
    "    return text.strip()\n",
    "\n",
    "# Apply cleaning\n",
    "df['clean_text'] = df['text'].apply(clean_text)\n",
    "\n",
    "# Removing stopwords\n",
    "stop_words = set(stopwords.words('english'))\n",
    "df['clean_text'] = df['clean_text'].apply(lambda x: ' '.join([word for word in x.split() if word not in stop_words]))\n",
    "\n",
    "# Dropping empty clean texts\n",
    "df = df[df['clean_text'].str.strip() != '']"
   ]
  },
  {
   "cell_type": "markdown",
   "id": "d5df093a-0e0b-4e0f-aa8f-0e9484e4f00e",
   "metadata": {},
   "source": [
    "### c) Basic Text Features\n",
    "This step adds simple, interpretable features about the tweets’ structure to help us understand the text better during Exploratory Data Analysis (EDA). The features can also be used in modeling if relevant."
   ]
  },
  {
   "cell_type": "code",
   "execution_count": 32,
   "id": "fa32fde6-2ee6-413a-99b0-2ad0c31aec97",
   "metadata": {},
   "outputs": [
    {
     "data": {
      "text/html": [
       "<div>\n",
       "<style scoped>\n",
       "    .dataframe tbody tr th:only-of-type {\n",
       "        vertical-align: middle;\n",
       "    }\n",
       "\n",
       "    .dataframe tbody tr th {\n",
       "        vertical-align: top;\n",
       "    }\n",
       "\n",
       "    .dataframe thead th {\n",
       "        text-align: right;\n",
       "    }\n",
       "</style>\n",
       "<table border=\"1\" class=\"dataframe\">\n",
       "  <thead>\n",
       "    <tr style=\"text-align: right;\">\n",
       "      <th></th>\n",
       "      <th>count</th>\n",
       "      <th>mean</th>\n",
       "      <th>std</th>\n",
       "      <th>min</th>\n",
       "      <th>25%</th>\n",
       "      <th>50%</th>\n",
       "      <th>75%</th>\n",
       "      <th>max</th>\n",
       "    </tr>\n",
       "    <tr>\n",
       "      <th>sentiment</th>\n",
       "      <th></th>\n",
       "      <th></th>\n",
       "      <th></th>\n",
       "      <th></th>\n",
       "      <th></th>\n",
       "      <th></th>\n",
       "      <th></th>\n",
       "      <th></th>\n",
       "    </tr>\n",
       "  </thead>\n",
       "  <tbody>\n",
       "    <tr>\n",
       "      <th>negative</th>\n",
       "      <td>796297.0</td>\n",
       "      <td>7.371788</td>\n",
       "      <td>3.945041</td>\n",
       "      <td>1.0</td>\n",
       "      <td>4.0</td>\n",
       "      <td>7.0</td>\n",
       "      <td>10.0</td>\n",
       "      <td>33.0</td>\n",
       "    </tr>\n",
       "    <tr>\n",
       "      <th>positive</th>\n",
       "      <td>796109.0</td>\n",
       "      <td>6.958373</td>\n",
       "      <td>3.870579</td>\n",
       "      <td>1.0</td>\n",
       "      <td>4.0</td>\n",
       "      <td>6.0</td>\n",
       "      <td>10.0</td>\n",
       "      <td>37.0</td>\n",
       "    </tr>\n",
       "  </tbody>\n",
       "</table>\n",
       "</div>"
      ],
      "text/plain": [
       "              count      mean       std  min  25%  50%   75%   max\n",
       "sentiment                                                         \n",
       "negative   796297.0  7.371788  3.945041  1.0  4.0  7.0  10.0  33.0\n",
       "positive   796109.0  6.958373  3.870579  1.0  4.0  6.0  10.0  37.0"
      ]
     },
     "execution_count": 32,
     "metadata": {},
     "output_type": "execute_result"
    }
   ],
   "source": [
    "# Adding tweet length feature(word count)\n",
    "df['text_length'] = df['clean_text'].apply(lambda x: len(x.split()))\n",
    "\n",
    "# Display stats\n",
    "df.groupby('sentiment')['text_length'].describe()"
   ]
  },
  {
   "cell_type": "markdown",
   "id": "e0ec6b5b-5602-4997-9047-9f325e657340",
   "metadata": {},
   "source": [
    "## 2.2 EXPLORATORY DATA ANALYSIS (EDA) \n",
    "In this section, we explore the structure of the dataset and key characteristics of the tweet text. This includes:\n",
    "\n",
    "- Distribution of Sentiments (positive vs negative)\n",
    "- Tweet Length Distribution\n",
    "- Word clouds for quick visual intuition\n",
    "\n",
    "These insights will help guide data preparation and model selection."
   ]
  },
  {
   "cell_type": "markdown",
   "id": "98c3eeb0-9ecd-403e-a7c0-bfdfaead6614",
   "metadata": {},
   "source": [
    "### 2.2.1 Distribution of Sentiments"
   ]
  },
  {
   "cell_type": "code",
   "execution_count": 35,
   "id": "df49d74c-1d87-46bd-bee6-d7acf0c8d340",
   "metadata": {},
   "outputs": [
    {
     "data": {
      "image/png": "[encoded data removed]",
      "text/plain": [
       "<Figure size 640x480 with 1 Axes>"
      ]
     },
     "metadata": {},
     "output_type": "display_data"
    }
   ],
   "source": [
    "# Assigning x variable to both x and hue\n",
    "sns.countplot(data=df, x='sentiment', hue='sentiment', palette='viridis', legend=False)\n",
    "\n",
    "plt.title(\"Distribution of Sentiment Classes\")\n",
    "plt.xlabel(\"Sentiment (0 = Negative, 4 = Positive)\")\n",
    "plt.ylabel(\"Tweet Count\")\n",
    "plt.grid(True, axis='y', linestyle='--', alpha=0.5)\n",
    "plt.show()"
   ]
  },
  {
   "cell_type": "markdown",
   "id": "5edf8504-9e7f-4333-9486-4cee2f7d1c57",
   "metadata": {},
   "source": [
    "There are 796109 positive tweets and 796297 negative tweets."
   ]
  },
  {
   "cell_type": "markdown",
   "id": "dc3ec305-126e-48eb-9757-4ad0c75a8c45",
   "metadata": {},
   "source": [
    "### 2.2.2 Tweet Length Distribution"
   ]
  },
  {
   "cell_type": "code",
   "execution_count": 38,
   "id": "3705d8bb-bd2c-4f47-a9b1-7ab6abbee0a6",
   "metadata": {},
   "outputs": [
    {
     "data": {
      "image/png": "[encoded data removed]",
      "text/plain": [
       "<Figure size 640x480 with 1 Axes>"
      ]
     },
     "metadata": {},
     "output_type": "display_data"
    }
   ],
   "source": [
    "plt.hist(df[df['sentiment'] == 'negative']['text_length'], bins=30, alpha=0.7, label='Negative', color='red')\n",
    "plt.hist(df[df['sentiment'] == 'positive']['text_length'], bins=30, alpha=0.7, label='Positive', color='green')\n",
    "plt.title(\"Tweet Length Distribution\")\n",
    "plt.xlabel(\"Number of Words\")\n",
    "plt.ylabel(\"Number of Tweets\")\n",
    "plt.legend()\n",
    "plt.grid(True)\n",
    "plt.show()"
   ]
  },
  {
   "cell_type": "markdown",
   "id": "075ebfb7-e025-4837-941d-4928f4ec6130",
   "metadata": {},
   "source": [
    "This histogram shows the distribution of tweet lengths (in number of words) for positive and negative tweets:\n",
    "- Most tweets, both positive (green) and negative (red) are between 2 and 10 words long.\n",
    "\n",
    "- Positive tweets appear more frequently in shorter lengths (especially around 4 and 8 words).\n",
    "\n",
    "- There is a steep decline in tweet counts beyond 15 words, meaning long tweets are rare.\n",
    "\n",
    "- The overlap in bars shows that both sentiment types share a similar length pattern, but positive tweets slightly dominate at shorter lengths."
   ]
  },
  {
   "cell_type": "markdown",
   "id": "6ab82bfe-d643-4c08-9826-354444a70d98",
   "metadata": {},
   "source": [
    "### 2.2.3 Tokenization and Word Clouds\n",
    "Word clouds helps visualize the most frequent words in tweets, making it easy to identify key themes or patterns. By comparing word clouds for positive and negative tweets, we can spot language differences across sentiments and gain quick, intuitive insights before modeling."
   ]
  },
  {
   "cell_type": "code",
   "execution_count": 41,
   "id": "01293bed-44c9-4bea-a357-5723f3870f3c",
   "metadata": {},
   "outputs": [
    {
     "data": {
      "image/png": "[encoded data removed]",
      "text/plain": [
       "<Figure size 1000x500 with 1 Axes>"
      ]
     },
     "metadata": {},
     "output_type": "display_data"
    }
   ],
   "source": [
    "# Create a 'tokens' column by tokenizing the cleaned tweets\n",
    "df['tokens'] = df['clean_text'].apply(word_tokenize)\n",
    "\n",
    "# Getting top N words and their frequencies\n",
    "def get_top_n_words(tokens_list, n=20):\n",
    "    all_words = [word.lower() for tokens in tokens_list for word in tokens]\n",
    "    return Counter(all_words).most_common(n)\n",
    "\n",
    "# Function to plot top words for given sentiment\n",
    "def plot_top_words(sentiment_label, color):\n",
    "    tokens = df[df['sentiment'] == sentiment_label]['tokens']\n",
    "    top_words = get_top_n_words(tokens)\n",
    "\n",
    "    words, freqs = zip(*top_words)\n",
    "\n",
    "    plt.figure(figsize=(10, 5))\n",
    "    plt.barh(words[::-1], freqs[::-1], color=color)  # horizontal bar chart (top at top)\n",
    "    plt.title(f\"Top Words in {sentiment_label.capitalize()} Tweets\")\n",
    "    plt.xlabel(\"Frequency\")\n",
    "    plt.tight_layout()\n",
    "    plt.show()\n",
    "\n",
    "# Plot for both sentiments\n",
    "plot_top_words('positive', color='green')"
   ]
  },
  {
   "cell_type": "code",
   "execution_count": 42,
   "id": "af46d0bc-ec9e-4e42-9c44-eed99778cb5c",
   "metadata": {
    "scrolled": true
   },
   "outputs": [
    {
     "data": {
      "image/png": "[encoded data removed]",
      "text/plain": [
       "<Figure size 1000x500 with 1 Axes>"
      ]
     },
     "metadata": {},
     "output_type": "display_data"
    }
   ],
   "source": [
    "plot_top_words('negative', color='red')"
   ]
  },
  {
   "cell_type": "markdown",
   "id": "6297e075-7d55-49ac-8d76-f66ccaaadb25",
   "metadata": {},
   "source": [
    "* Words such as \"sad,\" \"miss,\" \"cant,\" \"dont\" strongly indicate negative sentiment.\n",
    "\n",
    "* Words like \"love,\" \"thanks,\" \"good,\" \"great,\" \"Well\" point toward positive sentiment."
   ]
  },
  {
   "cell_type": "markdown",
   "id": "087ba897-7f8a-49ba-908c-0f655264f544",
   "metadata": {},
   "source": [
    "## 3.0 Modelling\n",
    "## In line with our business goals, we choose the below models: \n",
    "1. Logistic regression\n",
    "2. Naive bayes\n",
    "3. Random Forest"
   ]
  },
  {
   "cell_type": "markdown",
   "id": "218943c4-6e6c-44e8-88c6-5e7b671b56a8",
   "metadata": {},
   "source": [
    "### 3.1 Vectorization (TF-IDF)\n",
    "Here we aim to transform clean text into numerical features that models can understand."
   ]
  },
  {
   "cell_type": "code",
   "execution_count": 45,
   "id": "e67742ce-b361-4c04-a168-7f01afc5df5e",
   "metadata": {},
   "outputs": [],
   "source": [
    "from sklearn.feature_extraction.text import TfidfVectorizer\n",
    "\n",
    "vectorizer = TfidfVectorizer(max_features=5000, stop_words='english')\n",
    "X = vectorizer.fit_transform(df['clean_text'])  # Feature matrix\n",
    "y = df['sentiment']                             # Target variable (0 or 4)"
   ]
  },
  {
   "cell_type": "markdown",
   "id": "c16929d0-e9db-44eb-acc5-bf160fe270c5",
   "metadata": {},
   "source": [
    "### 3.2 Train-Test Split"
   ]
  },
  {
   "cell_type": "code",
   "execution_count": 47,
   "id": "367d7d2f-bf99-4a60-8f4d-bdd68086978c",
   "metadata": {},
   "outputs": [],
   "source": [
    "from sklearn.model_selection import train_test_split \n",
    "\n",
    "# Split into train and test sets (80% train, 20% test)\n",
    "X_train, X_test, y_train, y_test = train_test_split(\n",
    "    X, y, test_size=0.2, random_state=42, stratify=y\n",
    ")"
   ]
  },
  {
   "cell_type": "markdown",
   "id": "a895e6e0-1b04-4eeb-8a51-67f3ed8abdc3",
   "metadata": {},
   "source": [
    "## 3.2 Logistic Regression\n",
    "Logistic regression is simple, fast, and interpretable, making it perfect as a baseline model for binary classification tasks like sentiment analysis.\n",
    "\n",
    "Strengths:\n",
    "- Great for high-dimensional sparse data (like TF-IDF vectors).\n",
    "- Gives Outputs probabilities useful for threshold tuning and business decision-making.\n",
    "- Coefficients help with model explainability (feature importance)."
   ]
  },
  {
   "cell_type": "markdown",
   "id": "035e6d48-3de3-401b-a1e6-6487f2357887",
   "metadata": {},
   "source": [
    "### Import Libaries"
   ]
  },
  {
   "cell_type": "code",
   "execution_count": 50,
   "id": "349518d1-14c8-4708-8d98-8485f5728d3d",
   "metadata": {},
   "outputs": [],
   "source": [
    "# Import libraries\n",
    "from sklearn.linear_model import LogisticRegression\n",
    "from sklearn.metrics import confusion_matrix, classification_report, accuracy_score"
   ]
  },
  {
   "cell_type": "markdown",
   "id": "4f059048-106d-41e3-bee5-a1aba71408af",
   "metadata": {},
   "source": [
    "### Instantiate Model"
   ]
  },
  {
   "cell_type": "code",
   "execution_count": 52,
   "id": "a02283ff-4ba1-4bc5-abf8-ee4136dd8199",
   "metadata": {},
   "outputs": [],
   "source": [
    "# Intantiate and train the Logistic Regression model\n",
    "logreg = LogisticRegression(max_iter=1000)\n",
    "logreg.fit(X_train, y_train)\n",
    "\n",
    "# Predict on test set\n",
    "y_pred_logreg = logreg.predict(X_test)"
   ]
  },
  {
   "cell_type": "markdown",
   "id": "fa6f2adb-15a1-4d9a-a41d-5b7cb6d62d45",
   "metadata": {},
   "source": [
    "### Evaluate Logistics Regression Model"
   ]
  },
  {
   "cell_type": "code",
   "execution_count": 54,
   "id": "0d509ff2-95b0-408b-a90d-30f6cde98d99",
   "metadata": {},
   "outputs": [
    {
     "name": "stdout",
     "output_type": "stream",
     "text": [
      "Logistic Regression Results:\n",
      "[[118105  41155]\n",
      " [ 33175 126047]]\n",
      "              precision    recall  f1-score   support\n",
      "\n",
      "    negative       0.78      0.74      0.76    159260\n",
      "    positive       0.75      0.79      0.77    159222\n",
      "\n",
      "    accuracy                           0.77    318482\n",
      "   macro avg       0.77      0.77      0.77    318482\n",
      "weighted avg       0.77      0.77      0.77    318482\n",
      "\n",
      "Accuracy: 0.7666116138431686\n"
     ]
    }
   ],
   "source": [
    "# Evaluate the model\n",
    "print(\"Logistic Regression Results:\")\n",
    "print(confusion_matrix(y_test, y_pred_logreg))\n",
    "print(classification_report(y_test, y_pred_logreg))\n",
    "print(\"Accuracy:\", accuracy_score(y_test, y_pred_logreg))"
   ]
  },
  {
   "cell_type": "markdown",
   "id": "e5092c83-35ea-46c9-a7a3-8f647c023307",
   "metadata": {},
   "source": [
    "### Logistic Regression Model Interpretation:\n",
    "_____\n",
    "**1. Confusion Matrix:**\n",
    "\n",
    "- **True Negatives(TN):** 118,105 Negative tweets correctly predicted as negative\n",
    "\n",
    "- **False Positives(FP):** 41,155 Negative tweets incorrectly predicted as positive\n",
    "\n",
    "- **False Negatives(FN):** 33,175 Positive tweets incorrectly predicted as negative\n",
    "\n",
    "- **True Positives(TP):** 126,047 Positive tweets correctly predicted as positive\n",
    "\n",
    "**2. Classification Report Metrics:**\n",
    "\n",
    "Macro & Weighted Averages (0.77) suggest balanced performance across both classes.\n",
    "\n",
    "| Metric    | Negative Class (0) | Positive Class (4) | What It Means                                                  |\n",
    "| --------- | ------------------ | ------------------ | -------------------------------------------------------------- |\n",
    "| Precision | 0.78               | 0.75               | % of predicted negatives/positives that were correct.          |\n",
    "| Recall    | 0.74               | 0.79               | % of actual negatives/positives the model captured.            |\n",
    "| F1-Score  | 0.76               | 0.77               | Harmonic mean of precision and recall – overall effectiveness. |\n",
    "\n",
    "\n",
    "**3. Accuracy 76.7%:** This means the model correctly predicted the sentiment in 77 out of every 100 tweets.\n",
    "\n",
    "**4. Business Interpretation:**\n",
    "\n",
    "**Strength:**\n",
    "\n",
    "The model performs consistently across both sentiment classes, with only minor differences in precision/recall between positive and negative.\n",
    "\n",
    "**Use Case Fit:** \n",
    "\n",
    "For monitoring real-time sentiment, this is a strong starting point. The balance between precision and recall ensures both praise and complaints are captured reasonably well.\n",
    "\n",
    "**Improvement Opportunities:** \n",
    "\n",
    "Misclassifications (FP + FN) total 74,000 tweets. Advanced techniques like deep learning or transformer models could reduce this.\n",
    "____"
   ]
  },
  {
   "cell_type": "markdown",
   "id": "68b34138-7543-4c78-8968-be6c6ad138c1",
   "metadata": {},
   "source": [
    "## 3.3 Multinomial Naive Bayes\n",
    "The Naive Bayes model is specifically built for text classification problems using word frequencies, making it excellent for sparse data with low variance.\n",
    "\n",
    "Strengths:\n",
    "- Very fast even on large datasets.\n",
    "- Performs surprisingly well with independent word assumptions, especially for spam/sentiment problems.\n",
    "- Works naturally with count-based or TF-IDF features."
   ]
  },
  {
   "cell_type": "markdown",
   "id": "46eefc3f-ee60-4f44-aef6-56f163ddf19d",
   "metadata": {},
   "source": [
    "### Import Libraries"
   ]
  },
  {
   "cell_type": "code",
   "execution_count": 58,
   "id": "d04d12ce-1454-4dee-935c-87920de95c80",
   "metadata": {},
   "outputs": [],
   "source": [
    "from sklearn.naive_bayes import MultinomialNB"
   ]
  },
  {
   "cell_type": "markdown",
   "id": "71413698-c920-4712-8f9d-8c4002f3f2f2",
   "metadata": {},
   "source": [
    "### Instantiate model"
   ]
  },
  {
   "cell_type": "code",
   "execution_count": 60,
   "id": "526555ca-7ff4-47e0-b34a-d9e1ea2c5798",
   "metadata": {},
   "outputs": [],
   "source": [
    "# Instantiate and train the Naive Bayes model\n",
    "nb = MultinomialNB()\n",
    "nb.fit(X_train, y_train)\n",
    "\n",
    "# Predict on test set\n",
    "y_pred_nb = nb.predict(X_test)"
   ]
  },
  {
   "cell_type": "markdown",
   "id": "42879083-740a-4e0d-be65-2345870945df",
   "metadata": {},
   "source": [
    "### Evaluate Naive Bayes model"
   ]
  },
  {
   "cell_type": "code",
   "execution_count": 62,
   "id": "f528fd65-85a7-4ba0-813c-9ad10272c5c2",
   "metadata": {},
   "outputs": [
    {
     "name": "stdout",
     "output_type": "stream",
     "text": [
      "Naive Bayes Results:\n",
      "[[120458  38802]\n",
      " [ 39921 119301]]\n",
      "              precision    recall  f1-score   support\n",
      "\n",
      "    negative       0.75      0.76      0.75    159260\n",
      "    positive       0.75      0.75      0.75    159222\n",
      "\n",
      "    accuracy                           0.75    318482\n",
      "   macro avg       0.75      0.75      0.75    318482\n",
      "weighted avg       0.75      0.75      0.75    318482\n",
      "\n",
      "Accuracy: 0.7528180556514968\n"
     ]
    }
   ],
   "source": [
    "print(\"Naive Bayes Results:\")\n",
    "print(confusion_matrix(y_test, y_pred_nb))\n",
    "print(classification_report(y_test, y_pred_nb))\n",
    "print(\"Accuracy:\", accuracy_score(y_test, y_pred_nb))"
   ]
  },
  {
   "cell_type": "markdown",
   "id": "61e72822-7330-4bd5-8540-6b7c269ff727",
   "metadata": {},
   "source": [
    "### Naive Bayes Classifier Interpretation:\n",
    "_____\n",
    "**1. Confusion Matrix:**\n",
    "- **True Negatives(TN):** 120,458 Negative tweets correctly predicted as negative\n",
    "\n",
    "- **False Positives(FP):** 38,802 Negative tweets incorrectly predicted as positive\n",
    "\n",
    "- **False Negatives(FN):** 39,921 Positive tweets incorrectly predicted as negative\n",
    "\n",
    "- **True Positives(TP):** 119,301 Positive tweets correctly predicted as positive\n",
    "\n",
    "**2. Classification Report Metrics:**\n",
    "Both classes have balanced performance:\n",
    "- **Precision:** the 75% of predicted sentiments were actually correct): for both classes\n",
    "- **Recall:** the 75% actual sentiments were correctly predicted): for both classes\n",
    "- **F1-Score(0.75):** overall balance between precision and recall) is good, but lower than Logistic Regression)\n",
    "\n",
    "\n",
    "**3. Accuracy 75.3%:** This means the model correctly predicted the sentiment of tweets about 3 out of every 4 times.\n",
    "\n",
    "**4. Business Interpretation:**\n",
    "- Naive Bayes performed decently and is fast and efficient, making it a good baseline model. However, its assumptions (like word independence) might limit its ability to model deeper context and nuance in tweets.\n",
    "- It slightly underperformed compared to Logistic Regression, which had 76.6% accuracy and higher recall/precision.\n",
    "____"
   ]
  },
  {
   "cell_type": "markdown",
   "id": "8fef7867-cd2b-41c8-b404-b12029792f1f",
   "metadata": {},
   "source": [
    "## 3.4 Random Forest Model\n",
    "Random forest is powerful non-linear model that adds depth and complexity, captures non-linear relationships, and is robust to overfitting. \n",
    "\n",
    "Strengths:\n",
    "- Captures complex interactions between words/features.\n",
    "- Resistant to overfitting via ensemble averaging.\n",
    "- Provides feature importance for insight into which terms matter most."
   ]
  },
  {
   "cell_type": "markdown",
   "id": "7c82029c-14c3-4b4f-8a06-06ba39c01c96",
   "metadata": {},
   "source": [
    "### Import Libraries"
   ]
  },
  {
   "cell_type": "code",
   "execution_count": 66,
   "id": "ff84675b-eb98-4f40-841c-6524429b490c",
   "metadata": {},
   "outputs": [],
   "source": [
    "from sklearn.ensemble import RandomForestClassifier"
   ]
  },
  {
   "cell_type": "markdown",
   "id": "1589c143-b57b-4168-983f-d9df339e7ac4",
   "metadata": {},
   "source": [
    "### Random Forest on Smaller Dataset (500K Tweets)"
   ]
  },
  {
   "cell_type": "code",
   "execution_count": 73,
   "id": "2f19c776-d1dc-4471-8a41-77b13747358a",
   "metadata": {},
   "outputs": [],
   "source": [
    "#  Sampling 500,000 rows from the main DataFrame for faster model training\n",
    "df_sample = df.sample(n=500000, random_state=42)\n",
    "\n",
    "# Defining features and labels from the sampled dataset\n",
    "X_sample_text = df_sample['clean_text']   # Feature text\n",
    "y_sample = df_sample['sentiment']         # Labels (target variable)\n",
    "\n",
    "# TF-IDF Vectorization on the sampled tweets\n",
    "vectorizer = TfidfVectorizer(stop_words='english', max_features=5000)\n",
    "X = vectorizer.fit_transform(X_sample_text)  # Convert text to numerical feature vectors\n",
    "y = y_sample                                 # Set target labels"
   ]
  },
  {
   "cell_type": "markdown",
   "id": "b50e5226-37c8-486d-a1ec-96ede60cf281",
   "metadata": {},
   "source": [
    "### Train-test split "
   ]
  },
  {
   "cell_type": "code",
   "execution_count": 75,
   "id": "90e3c052-7f12-41b3-a5f4-4d5ae2848d1f",
   "metadata": {},
   "outputs": [],
   "source": [
    "# Split the dataset (80% train, 20% test)\n",
    "X_train, X_test, y_train, y_test = train_test_split(\n",
    "    X, y, test_size=0.2, random_state=42, stratify=y\n",
    ")"
   ]
  },
  {
   "cell_type": "markdown",
   "id": "73bd1df4-8d3b-4af3-827a-0cfea60e57b3",
   "metadata": {},
   "source": [
    "### Instantiate model"
   ]
  },
  {
   "cell_type": "code",
   "execution_count": 77,
   "id": "88250659-ff4e-4492-aa07-d111377b8326",
   "metadata": {},
   "outputs": [],
   "source": [
    "# Instantiate the Random Forest Classifier\n",
    "rf = RandomForestClassifier(n_estimators=100, random_state=42, n_jobs=-1)\n",
    "rf.fit(X_train, y_train)\n",
    "\n",
    "# Predict sentiment labels on the test set\n",
    "y_pred_rf = rf.predict(X_test)"
   ]
  },
  {
   "cell_type": "markdown",
   "id": "7c70e8b7-c0e9-4a0a-88d5-cb041cf20630",
   "metadata": {},
   "source": [
    "### Evaluate Radom Forest model"
   ]
  },
  {
   "cell_type": "code",
   "execution_count": 79,
   "id": "26582933-2e52-437c-9b7d-c6efea3af203",
   "metadata": {},
   "outputs": [
    {
     "name": "stdout",
     "output_type": "stream",
     "text": [
      "Random Forest Results (500K Sample):\n",
      "[[37111 12766]\n",
      " [12075 38048]]\n",
      "              precision    recall  f1-score   support\n",
      "\n",
      "    negative       0.75      0.74      0.75     49877\n",
      "    positive       0.75      0.76      0.75     50123\n",
      "\n",
      "    accuracy                           0.75    100000\n",
      "   macro avg       0.75      0.75      0.75    100000\n",
      "weighted avg       0.75      0.75      0.75    100000\n",
      "\n",
      "Accuracy: 0.75159\n"
     ]
    }
   ],
   "source": [
    "# Evaluate the model\n",
    "print(\"Random Forest Results (500K Sample):\")\n",
    "print(confusion_matrix(y_test, y_pred_rf))\n",
    "print(classification_report(y_test, y_pred_rf))\n",
    "print(\"Accuracy:\", accuracy_score(y_test, y_pred_rf))"
   ]
  },
  {
   "cell_type": "markdown",
   "id": "9f462b9a-46c7-405d-b586-a59f22d50349",
   "metadata": {},
   "source": [
    "### Random Forest Classifier Interpretation:\n",
    "_____\n",
    "**1. Confusion Matrix:**\n",
    "- **True Negatives(TN):** 37111 Negative tweets correctly predicted as negative\n",
    "\n",
    "- **False Positives(FP):** 12,766 Negative tweets incorrectly predicted as positive\n",
    "\n",
    "- **False Negatives(FN):** 12075 Positive tweets incorrectly predicted as negative\n",
    "\n",
    "- **True Positives(TP):** 38048 Positive tweets correctly predicted as positive\n",
    "\n",
    "**2. Classification Report Metrics:**\n",
    "Both classes have balanced performance:\n",
    "- **Precision:** the 75% of predicted sentiments were actually correct for both classes\n",
    "- **Recall:** the 75% actual sentiments were correctly predicted for both classes\n",
    "- **F1-Score(0.75):** overall balance between precision and recall is good, but lower than Logistic Regression\n",
    "\n",
    "\n",
    "**3. Accuracy 75.2%:** This means the model correctly predicted the sentiment of tweets about 3 out of every 4 times.\n",
    "\n",
    "**4. Business Interpretation:**\n",
    "- It slightly underperformed compared to Logistic Regression, which had 77% accuracy and higher recall/precision.\n",
    "____"
   ]
  },
  {
   "cell_type": "markdown",
   "id": "ed8569ce-71bb-45ce-a575-aa7bb34d4cd9",
   "metadata": {},
   "source": [
    "## 3.5 Feature Importance Plot for Random Forest "
   ]
  },
  {
   "cell_type": "code",
   "execution_count": 89,
   "id": "aafd61d1-e113-42ee-b39c-7530222eb05e",
   "metadata": {},
   "outputs": [
    {
     "data": {
      "image/png": "[encoded data removed]",
      "text/plain": [
       "<Figure size 1000x800 with 1 Axes>"
      ]
     },
     "metadata": {},
     "output_type": "display_data"
    }
   ],
   "source": [
    "# Getting feature names from TF-IDF\n",
    "feature_names = vectorizer.get_feature_names_out()\n",
    "\n",
    "# Get importances and sort\n",
    "importances = rf.feature_importances_\n",
    "indices = np.argsort(importances)[-20:]  # Top 20 important features\n",
    "\n",
    "# Plot\n",
    "plt.figure(figsize=(10, 8))\n",
    "plt.barh(range(len(indices)), importances[indices], align=\"center\", color='skyblue')\n",
    "plt.yticks(range(len(indices)), [feature_names[i] for i in indices])\n",
    "plt.title(\"Top 20 Important Words (Random Forest)\")\n",
    "plt.xlabel(\"Feature Importance Score\")\n",
    "plt.tight_layout()\n",
    "plt.show()"
   ]
  },
  {
   "cell_type": "markdown",
   "id": "2b39726c-e1c5-4f39-9d61-7f49f2251f55",
   "metadata": {},
   "source": [
    "The chart shows the Top 20 most important words(features) used by the Random Forest model to classify tweets as either positive or negative.\n",
    "\n",
    "- **X-axis:** Feature importance score — this indicates how influential a word is in determining the sentiment.\n",
    "- **Y-axis:** Words (features) extracted from tweets using TF-IDF vectorization.\n",
    "- A **higher bar** means that the word has a stronger influence on the model's prediction.\n",
    "\n",
    "#### Insights:\n",
    "- Words such as **\"sad,\" \"miss,\" \"hate,\" \"sick,\" \"sucks\"** strongly indicate **negative sentiment**.\n",
    "- Words like **\"love,\" \"thanks,\" \"good,\" \"great,\" \"happy\"** point toward **positive sentiment**.\n",
    "- The Random Forest model uses these word patterns to make informed classification decisions.\n",
    "\n",
    "#### Importance\n",
    "- Helps us **understand what the model has learned**.\n",
    "- Provides **transparency** into model behavior, which is crucial for business stakeholders.\n",
    "- Can guide future **feature engineering or model refinement** (e.g. focusing on impactful words).\n",
    "\n",
    "This analysis strengthens model interpretability and ensures we're aligned with the business goal of monitoring sentiment effectively.\n",
    "____"
   ]
  },
  {
   "cell_type": "markdown",
   "id": "1e921f1a-a41d-45d8-a7f9-1276097d06e9",
   "metadata": {},
   "source": [
    "## 3.6 Hyperparameter Tuning with GridSearchCV for Logistic Regression\n",
    "\n",
    "GridSearchCV helps us find the best hyperparameters for our model by testing different combinations using cross-validation. This improves model performance and avoids guesswork—making our model more accurate and reliable."
   ]
  },
  {
   "cell_type": "code",
   "execution_count": 97,
   "id": "a792fb2a-beb2-4b56-9354-948d9e580f37",
   "metadata": {},
   "outputs": [
    {
     "name": "stdout",
     "output_type": "stream",
     "text": [
      "Fitting 3 folds for each of 8 candidates, totalling 24 fits\n",
      "Best Parameters: {'C': 1, 'penalty': 'l1'}\n",
      "Best Cross-Validated Accuracy: 0.762084995647037\n"
     ]
    }
   ],
   "source": [
    "from sklearn.model_selection import GridSearchCV\n",
    "\n",
    "# Defining the model\n",
    "logreg = LogisticRegression(solver='liblinear')  \n",
    "\n",
    "# Defining the hyperparameter grid\n",
    "param_grid = {\n",
    "    'C': [0.01, 0.1, 1, 10],            # Regularization strength\n",
    "    'penalty': ['l1', 'l2']             # Type of regularization\n",
    "}\n",
    "\n",
    "# Setting up GridSearchCV\n",
    "grid_search = GridSearchCV(\n",
    "    estimator=logreg,\n",
    "    param_grid=param_grid,\n",
    "    cv=3,                               # 3-fold cross-validation\n",
    "    scoring='accuracy',\n",
    "    verbose=1,\n",
    "    n_jobs=-1\n",
    ")\n",
    "\n",
    "# Fit the model\n",
    "grid_search.fit(X_train, y_train)\n",
    "\n",
    "# Show best parameters and accuracy\n",
    "print(\"Best Parameters:\", grid_search.best_params_)\n",
    "print(\"Best Cross-Validated Accuracy:\", grid_search.best_score_)"
   ]
  },
  {
   "cell_type": "markdown",
   "id": "3d10864a-0c92-44f6-8bb5-82f1c228b6f1",
   "metadata": {},
   "source": [
    "### Evaluate the model "
   ]
  },
  {
   "cell_type": "code",
   "execution_count": 100,
   "id": "7facd74c-a1c8-4232-ad8c-9feda6db23b1",
   "metadata": {},
   "outputs": [
    {
     "name": "stdout",
     "output_type": "stream",
     "text": [
      "Classification Report (Best Logistic Regression):\n",
      "              precision    recall  f1-score   support\n",
      "\n",
      "    negative       0.78      0.74      0.76     49877\n",
      "    positive       0.75      0.79      0.77     50123\n",
      "\n",
      "    accuracy                           0.76    100000\n",
      "   macro avg       0.77      0.76      0.76    100000\n",
      "weighted avg       0.77      0.76      0.76    100000\n",
      "\n",
      "Accuracy: 0.76472\n"
     ]
    }
   ],
   "source": [
    "# Evaluate the best model on test set\n",
    "best_model = grid_search.best_estimator_\n",
    "y_pred_best = best_model.predict(X_test)\n",
    "\n",
    "print(\"Classification Report (Best Logistic Regression):\")\n",
    "print(classification_report(y_test, y_pred_best))\n",
    "print(\"Accuracy:\", accuracy_score(y_test, y_pred_best))"
   ]
  },
  {
   "cell_type": "markdown",
   "id": "c1462403-dcc1-476b-be24-b5c12c033fda",
   "metadata": {},
   "source": [
    "## 3.7 Model Metric Comparison: Choosing Best fit Model\n",
    "\n",
    "We’re doing model comparison to identify which algorithm performs best on our sentiment classification task, helping us choose the most accurate, reliable, and efficient model for real-world business use."
   ]
  },
  {
   "cell_type": "markdown",
   "id": "8b601339-0040-4c47-9d05-5a486035ecd1",
   "metadata": {},
   "source": [
    "### 3.7.1 Train-Test Split on Sampled Dataset (500,000 rows)"
   ]
  },
  {
   "cell_type": "code",
   "execution_count": 120,
   "id": "a02eba08-4a14-40db-97ad-6b1a9156b092",
   "metadata": {},
   "outputs": [],
   "source": [
    "# sampling 500k rows\n",
    "df_sample = df.sample(n=500000, random_state=42)\n",
    "\n",
    "X_sample_text = df_sample['clean_text']\n",
    "y_sample = df_sample['sentiment']\n",
    "\n",
    "# TF-IDF Vectorization\n",
    "vectorizer = TfidfVectorizer(stop_words='english', max_features=5000)\n",
    "X_sample = vectorizer.fit_transform(X_sample_text)\n",
    "\n",
    "# Final train-test split for ALL models\n",
    "X_train_sample, X_test_sample, y_train_sample, y_test_sample = train_test_split(\n",
    "    X_sample, y_sample, test_size=0.2, random_state=42, stratify=y_sample\n",
    ")"
   ]
  },
  {
   "cell_type": "markdown",
   "id": "0179b439-411e-4c72-8cc5-8bd7e4368f24",
   "metadata": {},
   "source": [
    "### 3.7.2 Retraining and Predicting for Each Model Using the SAME Sampled Split"
   ]
  },
  {
   "cell_type": "code",
   "execution_count": 123,
   "id": "14de72c7-58b9-46df-a93f-c9ac98fa976c",
   "metadata": {},
   "outputs": [],
   "source": [
    "# 1. Logistic Regresstion\n",
    "logreg = LogisticRegression(max_iter=1000)\n",
    "logreg.fit(X_train_sample, y_train_sample)\n",
    "y_pred_logreg = logreg.predict(X_test_sample)"
   ]
  },
  {
   "cell_type": "code",
   "execution_count": 125,
   "id": "3b265416-8479-4be9-ae04-45c12e6caa1e",
   "metadata": {},
   "outputs": [],
   "source": [
    "# 2. Naive Bayes\n",
    "nb = MultinomialNB()\n",
    "nb.fit(X_train_sample, y_train_sample)\n",
    "y_pred_nb = nb.predict(X_test_sample)"
   ]
  },
  {
   "cell_type": "code",
   "execution_count": 127,
   "id": "a4de5b38-1193-4f2d-8906-0951630651b7",
   "metadata": {},
   "outputs": [],
   "source": [
    "# 3. Random Forest\n",
    "rf = RandomForestClassifier(n_estimators=100, random_state=42)\n",
    "rf.fit(X_train_sample, y_train_sample)\n",
    "y_pred_rf = rf.predict(X_test_sample)"
   ]
  },
  {
   "cell_type": "markdown",
   "id": "a36667b7-ad88-4bb7-9594-d97899855f38",
   "metadata": {},
   "source": [
    "## Comparison of the Three Models              "
   ]
  },
  {
   "cell_type": "code",
   "execution_count": 130,
   "id": "aa8b5cd3-6447-4a4f-8bbd-9fbe4bcbbe13",
   "metadata": {},
   "outputs": [
    {
     "name": "stdout",
     "output_type": "stream",
     "text": [
      "                 Model  Accuracy  Precision    Recall  F1-Score\n",
      "0  Logistic Regression   0.76408   0.752239  0.789278  0.770314\n",
      "1          Naive Bayes   0.75224   0.747071  0.764539  0.755704\n",
      "2        Random Forest   0.75159   0.748770  0.759093  0.753896\n"
     ]
    }
   ],
   "source": [
    "# Ensure all predictions are done on X_test_sample and y_test_sample\n",
    "models = {\n",
    "    \"Logistic Regression\": y_pred_logreg,\n",
    "    \"Naive Bayes\": y_pred_nb,\n",
    "    \"Random Forest\": y_pred_rf\n",
    "}\n",
    "\n",
    "metrics = {\n",
    "    \"Model\": [],\n",
    "    \"Accuracy\": [],\n",
    "    \"Precision\": [],\n",
    "    \"Recall\": [],\n",
    "    \"F1-Score\": []\n",
    "}\n",
    "\n",
    "# Loop through each model's predictions\n",
    "for model_name, y_pred in models.items():\n",
    "    metrics[\"Model\"].append(model_name)\n",
    "    metrics[\"Accuracy\"].append(accuracy_score(y_test_sample, y_pred))\n",
    "    metrics[\"Precision\"].append(precision_score(y_test_sample, y_pred, pos_label='positive'))\n",
    "    metrics[\"Recall\"].append(recall_score(y_test_sample, y_pred, pos_label='positive'))\n",
    "    metrics[\"F1-Score\"].append(f1_score(y_test_sample, y_pred, pos_label='positive'))\n",
    "\n",
    "# Convert to DataFrame for nice display\n",
    "results_df = pd.DataFrame(metrics)\n",
    "results_df.sort_values(by=\"Accuracy\", ascending=False, inplace=True)\n",
    "print(results_df)"
   ]
  },
  {
   "cell_type": "markdown",
   "id": "eaa61d67-308f-4011-b1e5-45348e20df46",
   "metadata": {},
   "source": [
    "### 3.7.3. Visualizing our Best fit Model"
   ]
  },
  {
   "cell_type": "code",
   "execution_count": 140,
   "id": "29003b85-3c91-4f57-87eb-7fcee7adb1a0",
   "metadata": {},
   "outputs": [
    {
     "data": {
      "text/plain": [
       "<Figure size 1000x600 with 0 Axes>"
      ]
     },
     "metadata": {},
     "output_type": "display_data"
    },
    {
     "data": {
      "image/png": "[encoded data removed]",
      "text/plain": [
       "<Figure size 1200x600 with 1 Axes>"
      ]
     },
     "metadata": {},
     "output_type": "display_data"
    }
   ],
   "source": [
    "# Plot setup\n",
    "fig, ax = plt.subplots(figsize=(12, 6))\n",
    "bar_width = 0.2\n",
    "index = range(len(results_df))\n",
    "\n",
    "# Plotting bars for each metric\n",
    "plt.bar([i - bar_width*1.5 for i in index], results_df['Accuracy'], bar_width, label='Accuracy')\n",
    "plt.bar([i - bar_width/2 for i in index], results_df['Precision'], bar_width, label='Precision')\n",
    "plt.bar([i + bar_width/2 for i in index], results_df['Recall'], bar_width, label='Recall')\n",
    "plt.bar([i + bar_width*1.5 for i in index], results_df['F1-Score'], bar_width, label='F1-Score')\n",
    "\n",
    "# Labeling\n",
    "plt.xlabel('Model')\n",
    "plt.ylabel('Score')\n",
    "plt.title('Model Performance Comparison')\n",
    "plt.xticks(index, results_df['Model'])\n",
    "plt.ylim(0.7, 0.8)  # Optional: adjust based on scores\n",
    "plt.legend()\n",
    "plt.grid(axis='y')\n",
    "plt.tight_layout()\n",
    "plt.show()"
   ]
  },
  {
   "cell_type": "markdown",
   "id": "829ce8f2-b34c-4738-b59d-c209eb39a717",
   "metadata": {},
   "source": [
    "### Model Comparison Interpretation\n",
    "\n",
    "We evaluated three machine learning models for tweet sentiment classification: Logistic Regression, Naive Bayes, and Random Forest. The models were assessed using four key metrics: Accuracy, Precision, Recall, and F1-Score.\n",
    "\n",
    "- **Logistic Regression** performed the best overall, achieving the highest accuracy (76.4%), recall (78.9%), and F1-score (77%).\n",
    "\n",
    "- **Naive Bayes** was slightly behind, showing solid precision but lower recall than Logistic Regression.\n",
    "\n",
    "- **Random Forest** despite its complexity, performed similarly to Naive Bayes, but did not outperform Logistic Regression.\n",
    "\n",
    "The bar chart visualization clearly shows Logistic Regression’s consistent lead across all metrics, making it the most reliable model in this scenario."
   ]
  },
  {
   "cell_type": "markdown",
   "id": "11add81b-f34f-4bbd-8d9e-998783013da1",
   "metadata": {},
   "source": [
    "### 3.7.4 Confusion Matrix Plot Code for All 3 Models"
   ]
  },
  {
   "cell_type": "code",
   "execution_count": 149,
   "id": "33f652a5-7dbd-435c-9a34-9d612cdcc83f",
   "metadata": {},
   "outputs": [
    {
     "data": {
      "image/png": "[encoded data removed]",
      "text/plain": [
       "<Figure size 1600x500 with 6 Axes>"
      ]
     },
     "metadata": {},
     "output_type": "display_data"
    }
   ],
   "source": [
    "from sklearn.metrics import confusion_matrix\n",
    "\n",
    "# Creating a 1x3 subplot for 3 models\n",
    "fig, axes = plt.subplots(1, 3, figsize=(16, 5))\n",
    "\n",
    "# Defining titles and predictions\n",
    "model_titles = ['Logistic Regression', 'Naive Bayes', 'Random Forest']\n",
    "model_preds = [y_pred_logreg, y_pred_nb, y_pred_rf]\n",
    "true_labels = y_test_sample\n",
    "\n",
    "# Loop to create each confusion matrix plot\n",
    "for i, (title, preds) in enumerate(zip(model_titles, model_preds)):\n",
    "    cm = confusion_matrix(true_labels, preds)\n",
    "    sns.heatmap(cm, annot=True, fmt='d', cmap='Blues', xticklabels=['Negative', 'Positive'],\n",
    "                yticklabels=['Negative', 'Positive'], ax=axes[i])\n",
    "    axes[i].set_title(f'{title}')\n",
    "    axes[i].set_xlabel('Predicted')\n",
    "    axes[i].set_ylabel('Actual')\n",
    "\n",
    "plt.tight_layout()\n",
    "plt.show()"
   ]
  },
  {
   "cell_type": "markdown",
   "id": "b81d7472-92c2-4ef1-9f9e-ff07231e4a6e",
   "metadata": {},
   "source": [
    "Based on both the quantitative metrics and visual comparison, Logistic Regression is the best-performing model for this sentiment analysis task. It balances precision and recall well, making it ideal for real-world deployment where both false positives and false negatives matter."
   ]
  },
  {
   "cell_type": "markdown",
   "id": "b419094b-4b44-412e-a997-9eabbe963d9e",
   "metadata": {},
   "source": [
    "## 4. Error Analysis of Misclassified Tweets"
   ]
  },
  {
   "cell_type": "markdown",
   "id": "e99c27ad-ff92-411e-b9b6-60caca815235",
   "metadata": {},
   "source": [
    "### 4.1 Identify Misclassified Tweets\n",
    "In this step We’ll compare y_test_sample vs each model's predictions and extract where they differ."
   ]
  },
  {
   "cell_type": "code",
   "execution_count": 157,
   "id": "3701a615-97b7-4712-b8b3-085fc6303d00",
   "metadata": {},
   "outputs": [],
   "source": [
    "# Split raw text and labels \n",
    "X_sample_text_train, X_sample_text_test, y_train_sample, y_test_sample = train_test_split(\n",
    "    df_sample['clean_text'], df_sample['sentiment'], test_size=0.2, random_state=42, stratify=df_sample['sentiment']\n",
    ")\n",
    "\n",
    "# Refit vectorizer on training set and transform both\n",
    "vectorizer = TfidfVectorizer(stop_words='english', max_features=5000)\n",
    "\n",
    "X_train = vectorizer.fit_transform(X_sample_text_train)\n",
    "X_test = vectorizer.transform(X_sample_text_test)\n",
    "\n",
    "X_test_sample_text = X_sample_text_test.reset_index(drop=True) "
   ]
  },
  {
   "cell_type": "code",
   "execution_count": 159,
   "id": "f385c0ab-8985-406b-914e-e5e5397ac8b0",
   "metadata": {},
   "outputs": [
    {
     "data": {
      "text/html": [
       "<div>\n",
       "<style scoped>\n",
       "    .dataframe tbody tr th:only-of-type {\n",
       "        vertical-align: middle;\n",
       "    }\n",
       "\n",
       "    .dataframe tbody tr th {\n",
       "        vertical-align: top;\n",
       "    }\n",
       "\n",
       "    .dataframe thead th {\n",
       "        text-align: right;\n",
       "    }\n",
       "</style>\n",
       "<table border=\"1\" class=\"dataframe\">\n",
       "  <thead>\n",
       "    <tr style=\"text-align: right;\">\n",
       "      <th></th>\n",
       "      <th>text</th>\n",
       "      <th>true_label</th>\n",
       "      <th>logreg_pred</th>\n",
       "      <th>nb_pred</th>\n",
       "      <th>rf_pred</th>\n",
       "    </tr>\n",
       "  </thead>\n",
       "  <tbody>\n",
       "    <tr>\n",
       "      <th>1</th>\n",
       "      <td>aww keep trying youre likely something wrong i...</td>\n",
       "      <td>positive</td>\n",
       "      <td>negative</td>\n",
       "      <td>negative</td>\n",
       "      <td>positive</td>\n",
       "    </tr>\n",
       "    <tr>\n",
       "      <th>5</th>\n",
       "      <td>im taking lyrics say world humanity slowly dec...</td>\n",
       "      <td>negative</td>\n",
       "      <td>positive</td>\n",
       "      <td>positive</td>\n",
       "      <td>positive</td>\n",
       "    </tr>\n",
       "    <tr>\n",
       "      <th>6</th>\n",
       "      <td>feel bad im really glad schools keep amazing w...</td>\n",
       "      <td>positive</td>\n",
       "      <td>negative</td>\n",
       "      <td>negative</td>\n",
       "      <td>negative</td>\n",
       "    </tr>\n",
       "    <tr>\n",
       "      <th>8</th>\n",
       "      <td>hollie steel bgt absolutely excruciating watch...</td>\n",
       "      <td>negative</td>\n",
       "      <td>positive</td>\n",
       "      <td>positive</td>\n",
       "      <td>positive</td>\n",
       "    </tr>\n",
       "    <tr>\n",
       "      <th>10</th>\n",
       "      <td>man good friends hard come bylong distance bes...</td>\n",
       "      <td>negative</td>\n",
       "      <td>positive</td>\n",
       "      <td>positive</td>\n",
       "      <td>positive</td>\n",
       "    </tr>\n",
       "    <tr>\n",
       "      <th>12</th>\n",
       "      <td>age perfected evil eye look</td>\n",
       "      <td>positive</td>\n",
       "      <td>negative</td>\n",
       "      <td>negative</td>\n",
       "      <td>positive</td>\n",
       "    </tr>\n",
       "    <tr>\n",
       "      <th>21</th>\n",
       "      <td>wattup u friend</td>\n",
       "      <td>negative</td>\n",
       "      <td>positive</td>\n",
       "      <td>positive</td>\n",
       "      <td>positive</td>\n",
       "    </tr>\n",
       "    <tr>\n",
       "      <th>22</th>\n",
       "      <td>listening hillsong united miss songs</td>\n",
       "      <td>positive</td>\n",
       "      <td>negative</td>\n",
       "      <td>positive</td>\n",
       "      <td>negative</td>\n",
       "    </tr>\n",
       "    <tr>\n",
       "      <th>24</th>\n",
       "      <td>oscar thinks fly jumped counter top ok fear</td>\n",
       "      <td>negative</td>\n",
       "      <td>positive</td>\n",
       "      <td>negative</td>\n",
       "      <td>positive</td>\n",
       "    </tr>\n",
       "    <tr>\n",
       "      <th>39</th>\n",
       "      <td>brazilian fans</td>\n",
       "      <td>negative</td>\n",
       "      <td>positive</td>\n",
       "      <td>positive</td>\n",
       "      <td>positive</td>\n",
       "    </tr>\n",
       "  </tbody>\n",
       "</table>\n",
       "</div>"
      ],
      "text/plain": [
       "                                                 text true_label logreg_pred  \\\n",
       "1   aww keep trying youre likely something wrong i...   positive    negative   \n",
       "5   im taking lyrics say world humanity slowly dec...   negative    positive   \n",
       "6   feel bad im really glad schools keep amazing w...   positive    negative   \n",
       "8   hollie steel bgt absolutely excruciating watch...   negative    positive   \n",
       "10  man good friends hard come bylong distance bes...   negative    positive   \n",
       "12                        age perfected evil eye look   positive    negative   \n",
       "21                                    wattup u friend   negative    positive   \n",
       "22               listening hillsong united miss songs   positive    negative   \n",
       "24        oscar thinks fly jumped counter top ok fear   negative    positive   \n",
       "39                                     brazilian fans   negative    positive   \n",
       "\n",
       "     nb_pred   rf_pred  \n",
       "1   negative  positive  \n",
       "5   positive  positive  \n",
       "6   negative  negative  \n",
       "8   positive  positive  \n",
       "10  positive  positive  \n",
       "12  negative  positive  \n",
       "21  positive  positive  \n",
       "22  positive  negative  \n",
       "24  negative  positive  \n",
       "39  positive  positive  "
      ]
     },
     "execution_count": 159,
     "metadata": {},
     "output_type": "execute_result"
    }
   ],
   "source": [
    "error_df = pd.DataFrame({\n",
    "    'text': X_test_sample_text,  \n",
    "    'true_label': y_test_sample.reset_index(drop=True),\n",
    "    'logreg_pred': y_pred_logreg,\n",
    "    'nb_pred': y_pred_nb,\n",
    "    'rf_pred': y_pred_rf\n",
    "})\n",
    "\n",
    "# Filter misclassified tweets by Logistic Regression\n",
    "logreg_errors = error_df[error_df['true_label'] != error_df['logreg_pred']]\n",
    "logreg_errors.head(10)"
   ]
  },
  {
   "cell_type": "markdown",
   "id": "e2ebf405-19de-45cc-8465-ad29941d6854",
   "metadata": {},
   "source": [
    "The result shows tweets where Logistic Regression got the prediction wrong."
   ]
  },
  {
   "cell_type": "markdown",
   "id": "92feafbf-4fc4-4d1c-beeb-92484c215515",
   "metadata": {},
   "source": [
    "###  Error Analysis\n",
    "\n",
    "After evaluating model performance with metrics like precision and recall, we went deeper by examining individual **misclassified tweets**. \n",
    "\n",
    "- **False Positives** reveal cases where the model incorrectly predicted positive sentiment for a negative tweet  often due to sarcasm or misleading keywords.\n",
    "- **False Negatives** show the model missed positive sentiment  possibly due to informal language, misspellings, or absence of strong sentiment words.\n",
    "\n",
    "This analysis helps pinpoint limitations in the model’s understanding of context, suggesting that future work could explore:\n",
    "- More advanced models like BERT\n",
    "- Incorporating emojis, hashtags, or punctuation into features\n",
    "- Handling sarcasm and irony\n",
    "_____"
   ]
  },
  {
   "cell_type": "markdown",
   "id": "0539669c-beb3-4a6e-9cca-8d5232bb2c97",
   "metadata": {},
   "source": [
    "## 5. Project Conclusion\n",
    "This project successfully demonstrated how natural language processing (NLP) can be applied to automate sentiment classification of tweets. Using the large-scale Sentiment140 dataset, we implemented a robust pipeline—from data preprocessing and exploratory data analysis (EDA) to vectorization, model training, evaluation, and error analysis.\n",
    "\n",
    "Based on both the quantitative metrics and visual comparison, Logistic Regression is the best-performing model for this sentiment analysis task. It balances precision and recall well, making it ideal for real-world deployment where both false positives and false negatives matter."
   ]
  },
  {
   "cell_type": "markdown",
   "id": "8232a60a-ccbb-48d0-9754-ae29914cb622",
   "metadata": {},
   "source": [
    "## Summary :\n",
    "**1. Data Preparation:**\n",
    "\n",
    "Cleaned 1.6M tweets by removing noise, stopwords, and punctuation. Tokenization and normalization ensured the text was ready for modeling.\n",
    "\n",
    "**2. EDA Insights:**\n",
    "- Positive and negative sentiments were evenly distributed.\n",
    "- Word clouds and token frequency visualizations highlighted common emotional expressions.\n",
    "- Tweet length distributions showed that most tweets range between 10–25 words.\n",
    "\n",
    "**3.Modeling:**\n",
    "- Applied TF-IDF vectorization to extract meaningful features.\n",
    "- Trained and compared three models:\n",
    "    - Logistic Regression (Best performer: 76.4% accuracy)\n",
    "    - Naive Bayes (75.2% accuracy)\n",
    "    - Random Forest (75.1% accuracy on sampled data)\n",
    "- Hyperparameter tuning with GridSearchCV was conducted to optimize Logistic Regression.\n",
    "\n",
    "**4. Model Comparison & Interpretation:**\n",
    "- **Logistic Regression** achieved the highest F1-score and recall, making it the most effective for detecting positive sentiments.\n",
    "- Evaluation metrics such as confusion matrices and precision-recall helped assess model reliability.\n",
    "\n",
    "**5. Error Analysis:**\n",
    "- Extracted misclassified tweets revealed limitations where models struggled with sarcasm, ambiguous context, or informal language.\n",
    "- These cases highlighted the potential for future improvement using advanced NLP techniques (e.g.BERT or LSTM).\n",
    "\n",
    "**6. Business Value:**\n",
    "This solution provides a scalable, interpretable, and near real-time tool for sentiment monitoring—empowering businesses to understand public opinion, track brand sentiment, and enhance decision-making based on social media feedback."
   ]
  },
  {
   "cell_type": "markdown",
   "id": "8e6e2507-a326-4810-9e38-5b594ad8e9fe",
   "metadata": {},
   "source": [
    "## 6. Recommendations and Next Steps\n",
    "\n",
    "______\n",
    "### a) Recommendations\n",
    "**1. Adopt Logistic Regression for Deployment**\n",
    "- Given its strong balance of performance and efficiency, Logistic Regression is the best initial model to deploy for real-time tweet sentiment classification.\n",
    "\n",
    "**2. Expand to Include Neutral Class**\n",
    "- While this project focused on binary classification (positive vs. negative), incorporating neutral tweets would provide a more complete sentiment spectrum, especially for nuanced brand or product analysis.\n",
    "\n",
    "**3. Monitor Misclassifications**\n",
    "- Regularly analyze misclassified tweets to identify edge cases (e.g. sarcasm, slang) and use this insight to refine preprocessing or introduce additional features.\n",
    "\n",
    "**4. Optimize for Speed and Scale**\n",
    "- Given the size of tweet streams in production, future iterations should focus on model optimization for speed—especially when using Random Forest or deep learning models.\n",
    "_____"
   ]
  },
  {
   "cell_type": "markdown",
   "id": "d4e36e4c-d9e0-4bcc-b0d2-5eb92e03516e",
   "metadata": {},
   "source": [
    "### b) Next Steps\n",
    "**1. Implement Deep Learning Models (BERT, LSTM)**\n",
    "- Upgrade to more advanced NLP models like BERT or BiLSTM to handle context and semantic understanding, especially for tweets that are ambiguous or sarcastic.\n",
    "\n",
    "**2. Real-Time Sentiment Dashboard**\n",
    "- Build a live dashboard using Streamlit, Power BI or Tableau for stakeholders to visualize tweet trends and sentiment in real time.\n",
    "\n",
    "**3. Integrate Topic Modeling (LDA/NMF)**\n",
    "- Identify key topics driving sentiment using topic modeling. This helps uncover what users are talking about, not just how they feel.\n",
    "\n",
    "**4. Geolocation and Time-Based Analysis**\n",
    "- Extend the project by including geo-tagged tweets or timestamps to track how sentiment shifts over time or by region.\n",
    "\n",
    "**5. API Deployment**\n",
    "- Package the model with a simple Flask or FastAPI interface for integration into applications or customer feedback systems.\n",
    "_____"
   ]
  },
  {
   "cell_type": "markdown",
   "id": "170e72c9-7206-4bfd-bab3-d8a443822fc9",
   "metadata": {},
   "source": [
    "## 🙏 Acknowledgment\n",
    "We would like to express our sincere gratitude to:\n",
    "- Moringa School for providing a solid foundation in data science and NLP through practical coursework and mentorship.\n",
    "- The creators of the Sentiment140 dataset; Alec Go, Richa Bhayani, and Lei Huang – whose work enabled this analysis.\n",
    "- Our instructor Mildred Jepkosgei who offered feedback, encouragement, and technical guidance throughout this phase.\n",
    "\n",
    "Their contributions and support have been instrumental in the successful completion of this work.\n",
    "\n",
    "## Authors\n",
    "- Pamela Godia\n",
    "\n",
    "- Austine Otieno\n",
    "\n",
    "- Allan Ofula"
   ]
  },
  {
   "cell_type": "code",
   "execution_count": null,
   "id": "09313992-1185-4877-acf8-097d341f9f17",
   "metadata": {},
   "outputs": [],
   "source": []
  }
 ],
 "metadata": {
  "kernelspec": {
   "display_name": "Python [conda env:base] *",
   "language": "python",
   "name": "conda-base-py"
  },
  "language_info": {
   "codemirror_mode": {
    "name": "ipython",
    "version": 3
   },
   "file_extension": ".py",
   "mimetype": "text/x-python",
   "name": "python",
   "nbconvert_exporter": "python",
   "pygments_lexer": "ipython3",
   "version": "3.12.7"
  }
 },
 "nbformat": 4,
 "nbformat_minor": 5
}
